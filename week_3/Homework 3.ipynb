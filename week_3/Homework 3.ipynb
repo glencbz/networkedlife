{
 "cells": [
  {
   "cell_type": "markdown",
   "metadata": {},
   "source": [
    "# Networked Life Homework 3\n",
    "\n",
    "##### Glen Choo 1000472\n",
    "##### Loo Juin 1000546\n",
    "##### Tan Hao Qin 1000521"
   ]
  },
  {
   "cell_type": "code",
   "execution_count": 19,
   "metadata": {
    "collapsed": false
   },
   "outputs": [],
   "source": [
    "from __future__ import division\n",
    "import numpy as np\n",
    "import matplotlib.pyplot as plt\n",
    "import matplotlib\n",
    "import itertools\n",
    "%matplotlib inline  \n",
    "matplotlib.rcParams['figure.figsize'] = (20, 20)"
   ]
  },
  {
   "cell_type": "markdown",
   "metadata": {},
   "source": [
    "## 1. Baseline predictor"
   ]
  },
  {
   "cell_type": "code",
   "execution_count": 21,
   "metadata": {
    "collapsed": false
   },
   "outputs": [
    {
     "name": "stdout",
     "output_type": "stream",
     "text": [
      "[[ 4.5       5.125     3.859375  4.734375]\n",
      " [ 2.265625  2.890625  1.625     2.5     ]\n",
      " [ 2.96875   3.59375   2.328125  3.203125]\n",
      " [ 2.921875  3.546875  2.28125   3.15625 ]\n",
      " [ 2.671875  3.296875  2.03125   2.90625 ]]\n"
     ]
    }
   ],
   "source": [
    "def build_a(r_list):\n",
    "    a_list = []\n",
    "    a_row_length = len(r_list) + len(r_list[0])\n",
    "    movie_base = len(r_list)\n",
    "    for user_index, _ in enumerate(r_list):\n",
    "        for movie_offset in range(len(r_list[user_index])):\n",
    "            movie_index = movie_offset + movie_base\n",
    "            if r_list[user_index][movie_offset] > 0:\n",
    "                a_list.append(build_a_row(a_row_length, user_index, movie_index))\n",
    "    return a_list\n",
    "\n",
    "def build_a_row(length, i, j):\n",
    "    return [1 if ele is i or ele is j else 0 for ele in xrange(length)]\n",
    "\n",
    "def build_c(r_list):\n",
    "    ratings = [ele for user in r_list for ele in user if ele > 0]\n",
    "    average = sum(ratings)/len(ratings)\n",
    "    return [ele - average for ele in ratings]\n",
    "\n",
    "def solve_b(a_list, c_list):\n",
    "    a_mat = np.matrix(a_list)\n",
    "    c_mat = np.matrix(c_list).T\n",
    "    return np.linalg.inv(a_mat.T * a_mat) * a_mat.T * c_mat\n",
    "\n",
    "def convert_b(b_mat):\n",
    "    return [ele[0] for ele in b_mat.tolist()]\n",
    "\n",
    "def build_r_hat(r_list, b_list):\n",
    "    r_hat = r_list\n",
    "    movie_base = len(r_list)\n",
    "    ratings = [ele for user in r_list for ele in user if ele > 0]\n",
    "\n",
    "    average = sum(ratings)/len(ratings)\n",
    "\n",
    "    movie_base = len(r_list)\n",
    "    for user_index, _ in enumerate(r_list):\n",
    "        for movie_offset in xrange(len(r_list[user_index])):\n",
    "            r_hat[user_index][movie_offset] = average + b_list[user_index] + \\\n",
    "            \t\t\t\t\t\t\t\t\tb_list[movie_offset + movie_base]\n",
    "    return np.matrix(r_hat)\n",
    "\n",
    "def get_r_hat(r_list):\n",
    "    return build_r_hat(r_list, convert_b(solve_b(build_a(r_list), build_c(r_list))))\n",
    "\n",
    "if __name__ == \"__main__\":\n",
    "    R_LIST = [[5, -1, 5, 4],\n",
    "              [-1, 1, 1, 4],\n",
    "              [4, 1, 2, 4],\n",
    "              [3, 4, -1, 3],\n",
    "              [1, 5, 3, -1]]\n",
    "\n",
    "    FLOAT_R_LIST = [[float(x) for x in row] for row in R_LIST]\n",
    "    print get_r_hat(FLOAT_R_LIST)"
   ]
  },
  {
   "cell_type": "markdown",
   "metadata": {},
   "source": [
    "## 2. Neighborhood predictor"
   ]
  },
  {
   "cell_type": "code",
   "execution_count": 24,
   "metadata": {
    "collapsed": false
   },
   "outputs": [
    {
     "name": "stdout",
     "output_type": "stream",
     "text": [
      "Actual ratings:\n",
      "[[5, -1, 5, 4], [-1, 1, 1, 4], [4, 1, 2, 4], [3, 4, -1, 3], [1, 5, 3, -1]]\n",
      "Predicted ratings:\n",
      "[[ 4.5       5.125     3.859375  4.734375]\n",
      " [ 2.265625  2.890625  1.625     2.5     ]\n",
      " [ 2.96875   3.59375   2.328125  3.203125]\n",
      " [ 2.921875  3.546875  2.28125   3.15625 ]\n",
      " [ 2.671875  3.296875  2.03125   2.90625 ]]\n",
      "New predictions:\n",
      "[[ 4.5       5.125     3.859375  4.734375]\n",
      " [ 2.265625  2.890625  1.625     2.5     ]\n",
      " [ 2.96875   3.59375   2.328125  3.203125]\n",
      " [ 2.921875  3.546875  2.28125   3.15625 ]\n",
      " [ 2.671875  3.296875  2.03125   2.90625 ]]\n"
     ]
    }
   ],
   "source": [
    "INFINITY_VALUE = 100000\n",
    "\n",
    "def generate_error_matrix(actual_matrix, pred_matrix):\n",
    "\terror_matrix = actual_matrix - pred_matrix\n",
    "\tshape = actual_matrix.shape\n",
    "\tfor i in range(shape[0]):\n",
    "\t\tfor j in range(shape[1]):\n",
    "\t\t\tif actual_matrix[i, j] == -1:\n",
    "\t\t\t\terror_matrix[i, j] = -INFINITY_VALUE\n",
    "\treturn error_matrix\n",
    "\n",
    "\n",
    "def compute_distance(r1, r2):\n",
    "\tif r1.shape != r2.shape:\n",
    "\t\traise Exception(\"compute_distance: Input shapes do not match.\")\n",
    "\tnumerator = 0.0\n",
    "\tr1_summer = 0.0\n",
    "\tr2_summer = 0.0\n",
    "\tfor i in range(r1.shape[0]):\n",
    "\t\tleft = r1[i, 0]\n",
    "\t\tright = r2[i, 0]\n",
    "\t\tif left != -INFINITY_VALUE and right != -INFINITY_VALUE:\n",
    "\t\t\tnumerator += left * right\n",
    "\t\t\tr1_summer += left ** 2\n",
    "\t\t\tr2_summer += right ** 2\n",
    "\treturn numerator / np.sqrt(r1_summer * r2_summer) if r1_summer != 0 and r2_summer != 0 else 0\n",
    "\n",
    "\n",
    "class DistanceMachine:\n",
    "\tdef __init__(self, error_matrix):\n",
    "\t\tself.error_matrix = error_matrix\n",
    "\t\tself.struct = {}\n",
    "\n",
    "\tdef get(self, a, b):\n",
    "\t\tindex = (a, b) if b >= a else (b, a)\n",
    "\t\ttry:\n",
    "\t\t\treturn self.struct[index]\n",
    "\t\texcept KeyError:\n",
    "\t\t\tdist = compute_distance(self.error_matrix[:, a], self.error_matrix[:, b])\n",
    "\t\t\tself.struct[index] = dist\n",
    "\t\t\treturn dist\n",
    "\n",
    "\n",
    "class NeighbourhoodMachine:\n",
    "\tdef __init__(self, error_matrix, size):\n",
    "\t\tif size >= error_matrix.shape[1]:\n",
    "\t\t\traise Exception(\"NeighbourhoodMachine: Cannot have neighbourhood size equal to or larger than number of movies!\")\n",
    "\t\tself.error_matrix = error_matrix\n",
    "\t\tself.size = size\n",
    "\t\tself.dist_machine = DistanceMachine(error_matrix)\n",
    "\t\tself.struct = {}\n",
    "\n",
    "\tdef get(self, i):\n",
    "\t\ttry:\n",
    "\t\t\treturn self.struct[i]\n",
    "\t\texcept KeyError:\n",
    "\t\t\tdists = []\n",
    "\t\t\tfor j in range(self.error_matrix.shape[1]):\n",
    "\t\t\t\tif j != i:\n",
    "\t\t\t\t\tdists.append((j, self.dist_machine.get(i, j)))\n",
    "\t\t\tdists = sorted(dists, key = lambda k: -np.abs(k[1]))\n",
    "\t\t\t# print i, dists\n",
    "\t\t\tself.struct[i] = dists[0:self.size]\n",
    "\t\t\treturn self.struct[i]\n",
    "\n",
    "\n",
    "def neighbourhood_predict(actual_matrix, pred_matrix, size):\n",
    "\terror_matrix = generate_error_matrix(actual_matrix, pred_matrix)\n",
    "\tnbh_machine = NeighbourhoodMachine(error_matrix, size)\n",
    "\tret_matrix = np.matrix([[0.0] * pred_matrix.shape[1]] * pred_matrix.shape[0])\n",
    "\tfor u in range(pred_matrix.shape[0]):\n",
    "\t\tfor i in range(pred_matrix.shape[1]):\n",
    "\t\t\tnbh = nbh_machine.get(i)\n",
    "\t\t\tnumerator = 0.0\n",
    "\t\t\tdenominator = 0.0\n",
    "\t\t\tfor n in nbh:\n",
    "\t\t\t\tif error_matrix[u, n[0]] != -INFINITY_VALUE:\n",
    "\t\t\t\t\tnumerator += n[1] * error_matrix[u, n[0]]\n",
    "\t\t\t\t\tdenominator += np.abs(n[1])\n",
    "\t\t\toffset = numerator/denominator if denominator != 0 else 0\n",
    "\t\t\tret_matrix[u, i] = pred_matrix[u, i] + offset\n",
    "\treturn ret_matrix\n",
    "\n",
    "\n",
    "if __name__ == \"__main__\":\n",
    "\t# actual_matrix = np.matrix([[5, 4, 4, -1, -1],\n",
    "\t# \t\t\t\t\t\t   [-1, 3, 5, -1, 4],\n",
    "\t# \t\t\t\t\t\t   [5, 2, -1, -1, 3],\n",
    "\t# \t\t\t\t\t\t   [-1, -1, 3, 1, 2],\n",
    "\t# \t\t\t\t\t\t   [4, -1, -1, 4, 5],\n",
    "\t# \t\t\t\t\t\t   [-1, 3, -1, 3, 5],\n",
    "\t# \t\t\t\t\t\t   [3, -1, 3, 2, -1],\n",
    "\t# \t\t\t\t\t\t   [5, -1, 4, -1, 5],\n",
    "\t# \t\t\t\t\t\t   [-1, 2, 5, 4, -1],\n",
    "\t# \t\t\t\t\t\t   [-1, -1, 5, 3, 4]])\n",
    "\tactual_matrix = [[5, -1, 5, 4],\n",
    "\t\t\t\t\t [-1, 1, 1, 4],\n",
    "\t\t\t\t\t [4, 1, 2, 4],\n",
    "\t\t\t\t\t [3, 4, -1, 3],\n",
    "\t\t\t\t\t [1, 5, 3, -1]]\n",
    "\tprint \"Actual ratings:\"\n",
    "\tprint actual_matrix\n",
    "\t# pred_matrix = np.matrix([[5.0, 3.09, 4.90, -1, 4.62],\n",
    "\t# \t\t\t\t\t\t [-1, 2.89, 4.69, 3.49, 4.42],\n",
    "\t# \t\t\t\t\t\t [4.1, 2.19, -1, 2.78, 3.71],\n",
    "\t# \t\t\t\t\t\t [-1, 1.0, 2.49, 1.29, 2.22],\n",
    "\t# \t\t\t\t\t\t [4.9, -1, 4.79, 3.58, 4.51],\n",
    "\t# \t\t\t\t\t\t [4.88, 2.96, -1, 3.56, 4.48],\n",
    "\t# \t\t\t\t\t\t [3.15, 1.23, 3.03, 1.82, -1],\n",
    "\t# \t\t\t\t\t\t [4.84, 2.92, 4.72, -1, 4.44],\n",
    "\t# \t\t\t\t\t\t [4.84, 2.92, 4.72, 3.51, -1],\n",
    "\t# \t\t\t\t\t\t [4.61, -1, 4.49, 3.29, 4.22]])\n",
    "\tpred_matrix = build_r_hat(actual_matrix, convert_b(solve_b(build_a(actual_matrix), build_c(actual_matrix))))\n",
    "\tprint \"Predicted ratings:\"\n",
    "\tprint pred_matrix\n",
    "\toffset_matrix = neighbourhood_predict(np.matrix(actual_matrix), pred_matrix, 2)\n",
    "\tprint \"New predictions:\"\n",
    "\tprint offset_matrix"
   ]
  },
  {
   "cell_type": "markdown",
   "metadata": {},
   "source": [
    "## 3. Least squares\n",
    "## 3a. Minimise$_b$ $||\\textbf{Ab} - \\textbf{c}||^2_2$\n",
    "\n",
    "$$\\frac{d||\\textbf{Ab} - \\textbf{c}||^2_2}{d\\textbf{b}} = 0\\\\\n",
    "2(\\textbf{A}^T\\textbf{A}\\textbf{b}) - 2\\textbf{A}^T\\textbf{c} = 0 \\\\\n",
    "\\textbf{A}^T\\textbf{A}\\textbf{b} = \\textbf{A}^T\\textbf{c} \\\\\n",
    "\\textbf{b} = (\\textbf{A}^T\\textbf{A})^{-1}\\textbf{A}^T\\textbf{c} \\\\\n",
    "$$\n",
    "\n"
   ]
  },
  {
   "cell_type": "code",
   "execution_count": 4,
   "metadata": {
    "collapsed": false
   },
   "outputs": [
    {
     "name": "stdout",
     "output_type": "stream",
     "text": [
      "[[ 1.03571429]\n",
      " [ 0.21428571]\n",
      " [ 0.53571429]]\n"
     ]
    }
   ],
   "source": [
    "# A - 4 by 3 matrix\n",
    "# B - 3 by 1 matrix\n",
    "# C - 4 by 1 matrix\n",
    "\n",
    "A = [[1,0,2],\n",
    "\t[1,1,0],\n",
    "\t[0,2,1],\n",
    "\t[2,1,1]]\n",
    "\n",
    "C = [[2],\n",
    "\t[1],\n",
    "\t[1],\n",
    "\t[3]]\n",
    "\n",
    "A = np.matrix(A)\n",
    "C = np.matrix(C)\n",
    "\n",
    "# Solving for A^T*A\n",
    "ATA = np.transpose(A) * A\n",
    "\n",
    "# Solving for (A^T*A)^(-1)\n",
    "ATAinv = np.linalg.inv(ATA)\n",
    "\n",
    "# Solving for A^T*c\n",
    "ATC = np.transpose(A) * C\n",
    "\n",
    "# Solving for b\n",
    "B = ATAinv * ATC\n",
    "\n",
    "print B"
   ]
  },
  {
   "cell_type": "markdown",
   "metadata": {},
   "source": [
    "## 3b. Minimise$_b$ $||\\textbf{Ab} - \\textbf{c}||^2_2 + \\lambda||\\textbf{b}||^2_2$\n",
    "\n",
    "$$\\frac{d(||\\textbf{Ab} - \\textbf{c}||^2_2+ \\lambda||\\textbf{b}||^2_2)}{d\\textbf{b}} = 0\\\\\n",
    "2(\\textbf{A}^T\\textbf{A}\\textbf{b}) - 2\\textbf{A}^T\\textbf{c} + \\lambda \\textbf{b} = 0 \\\\\n",
    "(\\textbf{A}^T\\textbf{A} + \\lambda/2\\textbf{I})\\textbf{b} = \\textbf{A}^T\\textbf{c} \\\\\n",
    "\\textbf{b} = (\\textbf{A}^T\\textbf{A} + \\lambda/2\\textbf{I})^{-1}\\textbf{A}^T\\textbf{c} \\\\\n",
    "$$\n",
    "\n"
   ]
  },
  {
   "cell_type": "code",
   "execution_count": 20,
   "metadata": {
    "collapsed": false
   },
   "outputs": [
    {
     "data": {
      "image/png": "[encoded data removed]",
      "text/plain": [
       "<matplotlib.figure.Figure at 0x10d2e8b50>"
      ]
     },
     "metadata": {},
     "output_type": "display_data"
    }
   ],
   "source": [
    "# Generating list of regularization factors\n",
    "reg_factors = np.arange(0,5.2,0.2)\n",
    "b_list = []\n",
    "\n",
    "# Iterating through all lambda from 0.2 to 5.0\n",
    "for lamda in reg_factors:\n",
    "    \n",
    "    # Calculating inverse for (2 A^T * A + lambda/2)\n",
    "\tATAinv = np.linalg.inv(ATA + (lamda*np.eye(3)/2))\n",
    "    \n",
    "    # Calculating b values\n",
    "\tb_list.append(ATAinv * ATC)\n",
    "\n",
    "# Calculating list for ||Ab - c||^2_2\n",
    "abcl2 = [float(np.transpose(A*b - C) * (A*b - C)) for b in b_list]\n",
    "# Calculating list for ||b||^2_2\n",
    "bl2 = [float(np.transpose(b) * (b)) for b in b_list]\n",
    "\n",
    "# print b_list\n",
    "\n",
    "plt.title(\"Plot of $(Ab - c)^T(Ab - c)$ and $b^Tb$ against $\\lambda$\")\n",
    "plt.plot(reg_factors, abcl2)\n",
    "plt.plot(reg_factors, bl2)\n",
    "plt.legend(['$(Ab - c)^T(Ab - c)$', '$b^Tb$'])\n",
    "plt.show()"
   ]
  },
  {
   "cell_type": "markdown",
   "metadata": {},
   "source": []
  }
 ],
 "metadata": {
  "kernelspec": {
   "display_name": "Python 2",
   "language": "python",
   "name": "python2"
  },
  "language_info": {
   "codemirror_mode": {
    "name": "ipython",
    "version": 2
   },
   "file_extension": ".py",
   "mimetype": "text/x-python",
   "name": "python",
   "nbconvert_exporter": "python",
   "pygments_lexer": "ipython2",
   "version": "2.7.9"
  }
 },
 "nbformat": 4,
 "nbformat_minor": 0
}
